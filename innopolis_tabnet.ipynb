{
  "metadata": {
    "kernelspec": {
      "language": "python",
      "display_name": "Python 3",
      "name": "python3"
    },
    "language_info": {
      "name": "python",
      "version": "3.7.12",
      "mimetype": "text/x-python",
      "codemirror_mode": {
        "name": "ipython",
        "version": 3
      },
      "pygments_lexer": "ipython3",
      "nbconvert_exporter": "python",
      "file_extension": ".py"
    },
    "colab": {
      "provenance": []
    }
  },
  "nbformat_minor": 0,
  "nbformat": 4,
  "cells": [
    {
      "cell_type": "code",
      "source": [
        "# This Python 3 environment comes with many helpful analytics libraries installed\n",
        "# It is defined by the kaggle/python Docker image: https://github.com/kaggle/docker-python\n",
        "# For example, here's several helpful packages to load\n",
        "\n",
        "import numpy as np # linear algebra\n",
        "import pandas as pd # data processing, CSV file I/O (e.g. pd.read_csv)\n",
        "\n",
        "# Input data files are available in the read-only \"../input/\" directory\n",
        "# For example, running this (by clicking run or pressing Shift+Enter) will list all files under the input directory\n",
        "\n",
        "import os\n",
        "for dirname, _, filenames in os.walk('/kaggle/input'):\n",
        "    for filename in filenames:\n",
        "        print(os.path.join(dirname, filename))\n",
        "\n",
        "# You can write up to 20GB to the current directory (/kaggle/working/) that gets preserved as output when you create a version using \"Save & Run All\" \n",
        "# You can also write temporary files to /kaggle/temp/, but they won't be saved outside of the current session"
      ],
      "metadata": {
        "_uuid": "8f2839f25d086af736a60e9eeb907d3b93b6e0e5",
        "_cell_guid": "b1076dfc-b9ad-4769-8c92-a6c4dae69d19",
        "execution": {
          "iopub.status.busy": "2022-11-20T10:18:31.400741Z",
          "iopub.execute_input": "2022-11-20T10:18:31.401847Z",
          "iopub.status.idle": "2022-11-20T10:18:31.434985Z",
          "shell.execute_reply.started": "2022-11-20T10:18:31.401722Z",
          "shell.execute_reply": "2022-11-20T10:18:31.433989Z"
        },
        "trusted": true,
        "id": "8xjvA5xSIcbI",
        "outputId": "56bb4b60-8b3b-48cb-84d6-d6d19a3d78e1"
      },
      "execution_count": null,
      "outputs": [
        {
          "name": "stdout",
          "text": "/kaggle/input/innopolis/train.csv\n/kaggle/input/innopolis/test.csv\n",
          "output_type": "stream"
        }
      ]
    },
    {
      "cell_type": "markdown",
      "source": [
        "\n",
        "\n",
        "https://github.com/dreamquark-ai/tabnet\n"
      ],
      "metadata": {
        "id": "MNf1ucmAIcbN"
      }
    },
    {
      "cell_type": "code",
      "source": [
        "!pip install pytorch-tabnet"
      ],
      "metadata": {
        "execution": {
          "iopub.status.busy": "2022-11-20T10:18:47.425553Z",
          "iopub.execute_input": "2022-11-20T10:18:47.425913Z",
          "iopub.status.idle": "2022-11-20T10:19:00.241071Z",
          "shell.execute_reply.started": "2022-11-20T10:18:47.425882Z",
          "shell.execute_reply": "2022-11-20T10:19:00.239921Z"
        },
        "trusted": true,
        "id": "cvoWWd3dIcbP",
        "outputId": "221cb23c-0275-4b51-cb7e-0e582cbb6c0f"
      },
      "execution_count": null,
      "outputs": [
        {
          "name": "stdout",
          "text": "Collecting pytorch-tabnet\n  Downloading pytorch_tabnet-4.0-py3-none-any.whl (41 kB)\n\u001b[2K     \u001b[90m━━━━━━━━━━━━━━━━━━━━━━━━━━━━━━━━━━━━━━━\u001b[0m \u001b[32m41.8/41.8 kB\u001b[0m \u001b[31m168.3 kB/s\u001b[0m eta \u001b[36m0:00:00\u001b[0ma \u001b[36m0:00:01\u001b[0m\n\u001b[?25hRequirement already satisfied: tqdm<5.0,>=4.36 in /opt/conda/lib/python3.7/site-packages (from pytorch-tabnet) (4.64.0)\nRequirement already satisfied: scikit_learn>0.21 in /opt/conda/lib/python3.7/site-packages (from pytorch-tabnet) (1.0.2)\nRequirement already satisfied: numpy<2.0,>=1.17 in /opt/conda/lib/python3.7/site-packages (from pytorch-tabnet) (1.21.6)\nRequirement already satisfied: scipy>1.4 in /opt/conda/lib/python3.7/site-packages (from pytorch-tabnet) (1.7.3)\nRequirement already satisfied: torch<2.0,>=1.2 in /opt/conda/lib/python3.7/site-packages (from pytorch-tabnet) (1.11.0)\nRequirement already satisfied: threadpoolctl>=2.0.0 in /opt/conda/lib/python3.7/site-packages (from scikit_learn>0.21->pytorch-tabnet) (3.1.0)\nRequirement already satisfied: joblib>=0.11 in /opt/conda/lib/python3.7/site-packages (from scikit_learn>0.21->pytorch-tabnet) (1.0.1)\nRequirement already satisfied: typing-extensions in /opt/conda/lib/python3.7/site-packages (from torch<2.0,>=1.2->pytorch-tabnet) (4.1.1)\nInstalling collected packages: pytorch-tabnet\nSuccessfully installed pytorch-tabnet-4.0\n\u001b[33mWARNING: Running pip as the 'root' user can result in broken permissions and conflicting behaviour with the system package manager. It is recommended to use a virtual environment instead: https://pip.pypa.io/warnings/venv\u001b[0m\u001b[33m\n\u001b[0m",
          "output_type": "stream"
        }
      ]
    },
    {
      "cell_type": "code",
      "source": [
        "import warnings\n",
        "warnings.filterwarnings(\"ignore\")"
      ],
      "metadata": {
        "execution": {
          "iopub.status.busy": "2022-11-20T10:18:35.449419Z",
          "iopub.execute_input": "2022-11-20T10:18:35.449763Z",
          "iopub.status.idle": "2022-11-20T10:18:35.455164Z",
          "shell.execute_reply.started": "2022-11-20T10:18:35.449733Z",
          "shell.execute_reply": "2022-11-20T10:18:35.454228Z"
        },
        "trusted": true,
        "id": "brDR6_vZIcbS"
      },
      "execution_count": null,
      "outputs": []
    },
    {
      "cell_type": "markdown",
      "source": [
        "## Импорт модулей"
      ],
      "metadata": {
        "id": "yfGyjZQWIcbT"
      }
    },
    {
      "cell_type": "code",
      "source": [
        "import json\n",
        "import itertools\n",
        "import math\n",
        "import textwrap\n",
        "from collections import defaultdict\n",
        "from dataclasses import dataclass\n",
        "from pathlib import Path\n",
        "from typing import Dict, List, Optional\n",
        "\n",
        "import lightgbm as lgb\n",
        "import matplotlib.pyplot as plt\n",
        "import numpy as np\n",
        "import pandas as pd\n",
        "from pytorch_tabnet.metrics import Metric\n",
        "from pytorch_tabnet.tab_model import TabNetClassifier\n",
        "from scipy.stats import ttest_rel\n",
        "from sklearn.model_selection import train_test_split, KFold, StratifiedKFold\n",
        "from sklearn.metrics import classification_report, accuracy_score, f1_score, precision_score, recall_score\n",
        "from sklearn.neighbors import KNeighborsClassifier\n",
        "\n",
        "from tqdm.auto import tqdm"
      ],
      "metadata": {
        "execution": {
          "iopub.status.busy": "2022-11-20T10:19:59.884850Z",
          "iopub.execute_input": "2022-11-20T10:19:59.885835Z",
          "iopub.status.idle": "2022-11-20T10:20:01.342507Z",
          "shell.execute_reply.started": "2022-11-20T10:19:59.885784Z",
          "shell.execute_reply": "2022-11-20T10:20:01.341568Z"
        },
        "trusted": true,
        "id": "RwIsUN18IcbV"
      },
      "execution_count": null,
      "outputs": []
    },
    {
      "cell_type": "markdown",
      "source": [
        "## Настройка путей"
      ],
      "metadata": {
        "id": "ufQIWdwOIcbX"
      }
    },
    {
      "cell_type": "code",
      "source": [
        "contest_dir = Path('/kaggle/input/innopolis/')\n",
        "data_dir = contest_dir"
      ],
      "metadata": {
        "execution": {
          "iopub.status.busy": "2022-11-20T10:20:02.431596Z",
          "iopub.execute_input": "2022-11-20T10:20:02.432736Z",
          "iopub.status.idle": "2022-11-20T10:20:02.437872Z",
          "shell.execute_reply.started": "2022-11-20T10:20:02.432692Z",
          "shell.execute_reply": "2022-11-20T10:20:02.436823Z"
        },
        "trusted": true,
        "id": "piqCK-HQIcbY"
      },
      "execution_count": null,
      "outputs": []
    },
    {
      "cell_type": "markdown",
      "source": [
        "## Загрузка данных"
      ],
      "metadata": {
        "id": "OOHjUQF1IcbZ"
      }
    },
    {
      "cell_type": "code",
      "source": [
        "input_train_data = pd.read_csv(data_dir / 'train.csv', encoding='ascii')\n",
        "input_test_data = pd.read_csv(data_dir / 'test.csv', encoding='ascii')"
      ],
      "metadata": {
        "execution": {
          "iopub.status.busy": "2022-11-20T10:20:04.672540Z",
          "iopub.execute_input": "2022-11-20T10:20:04.672896Z",
          "iopub.status.idle": "2022-11-20T10:20:05.251428Z",
          "shell.execute_reply.started": "2022-11-20T10:20:04.672866Z",
          "shell.execute_reply": "2022-11-20T10:20:05.250463Z"
        },
        "trusted": true,
        "id": "BhBB4CVyIcba"
      },
      "execution_count": null,
      "outputs": []
    },
    {
      "cell_type": "markdown",
      "source": [
        "## Константы"
      ],
      "metadata": {
        "id": "kGr9jvBNIcbb"
      }
    },
    {
      "cell_type": "code",
      "source": [
        "TARGET_NAMES = [\n",
        "    'подсолнечник',\n",
        "    'картофель',\n",
        "    'пшеница озимая',\n",
        "    'гречиха',\n",
        "    'кукуруза',\n",
        "    'пшеница яровая',\n",
        "    'сахарная свекла'\n",
        "]\n",
        "\n",
        "TARGET_COUNT = 7\n",
        "\n",
        "TARGET_COLUMN = 'crop'"
      ],
      "metadata": {
        "execution": {
          "iopub.status.busy": "2022-11-20T10:20:06.449555Z",
          "iopub.execute_input": "2022-11-20T10:20:06.449923Z",
          "iopub.status.idle": "2022-11-20T10:20:06.454997Z",
          "shell.execute_reply.started": "2022-11-20T10:20:06.449891Z",
          "shell.execute_reply": "2022-11-20T10:20:06.453989Z"
        },
        "trusted": true,
        "id": "HNYYh5LgIcbc"
      },
      "execution_count": null,
      "outputs": []
    },
    {
      "cell_type": "markdown",
      "source": [
        "## Генерация фичей и таргетов"
      ],
      "metadata": {
        "id": "-vgQMKj5Icbd"
      }
    },
    {
      "cell_type": "code",
      "source": [
        "def reproject(latitude, longitude):\n",
        "    \"\"\"Returns the x & y coordinates in meters using a sinusoidal projection\"\"\"\n",
        "    from math import pi, cos, radians\n",
        "    earth_radius = 6371009 # in meters\n",
        "    lat_dist = pi * earth_radius / 180.0\n",
        "\n",
        "    y = [lat * lat_dist for lat in latitude]\n",
        "    x = [long * lat_dist * cos(radians(lat)) \n",
        "                for lat, long in zip(latitude, longitude)]\n",
        "    return x, y\n",
        "\n",
        "def create_features(input_data: pd.DataFrame, is_train_data: bool) -> pd.DataFrame:\n",
        "    data = input_data.copy()\n",
        "\n",
        "    nd_mean_columns = sorted(x for x in data.columns if x.startswith('nd_mean_'))\n",
        "    nd_mean_dates = [pd.to_datetime(x[8:]) for x in nd_mean_columns]\n",
        "\n",
        "    nd_mean = np.array(data[nd_mean_columns])\n",
        "    data['nd_mean.min'] = np.min(nd_mean, axis=1)\n",
        "    data['nd_mean.max'] = np.max(nd_mean, axis=1)\n",
        "    data['nd_mean.mean'] = np.mean(nd_mean, axis=1)\n",
        "    data['nd_mean.std'] = np.std(nd_mean, axis=1)\n",
        "    data['nd_mean.sum'] = np.sum(nd_mean, axis=1)\n",
        "\n",
        "    nd_mean_mask = nd_mean != 0\n",
        "    data['nd_mean.nonzero.mean'] = np.mean(nd_mean, axis=1, where=nd_mean_mask)\n",
        "    data['nd_mean.nonzero.std'] = np.std(nd_mean, axis=1, where=nd_mean_mask)\n",
        "    data['nd_mean.nonzero.count'] = np.sum(nd_mean_mask, axis=1)\n",
        "\n",
        "    geo_data = list(data['.geo'].apply(json.loads))\n",
        "\n",
        "    data['geo.is_polygon'] = [x['type'] == 'Polygon' for x in geo_data]\n",
        "    data['geo.is_multi_polygon'] = [x['type'] == 'MultiPolygon' for x in geo_data]\n",
        "    data['geo.is_geometry_collection'] = [x['type'] == 'GeometryCollection' for x in geo_data]\n",
        "\n",
        "    def get_polygons(geo):\n",
        "        if geo['type'] == 'Polygon':\n",
        "            return [geo['coordinates']]\n",
        "        if geo['type'] == 'MultiPolygon':\n",
        "            return geo['coordinates']\n",
        "        if geo['type'] == 'GeometryCollection':\n",
        "            return [x['coordinates'] for x in geo['geometries'] if x['type'] == 'Polygon']\n",
        "        raise ValueError('Invalid geometry type: ' + geo['type'])\n",
        "\n",
        "    geo_polygons = [get_polygons(x) for x in geo_data]\n",
        "\n",
        "    data['geo.polygon_count'] = [len(x) for x in geo_polygons]\n",
        "    data['geo.polygon_part_count'] = [sum(len(y) for y in x) for x in geo_polygons]\n",
        "\n",
        "    def get_coordinates(polygons):\n",
        "        lon = []\n",
        "        lat = []\n",
        "        for polygon in polygons:\n",
        "            for part in polygon:\n",
        "                lon.extend(x[0] for x in part)\n",
        "                lat.extend(x[1] for x in part)\n",
        "        return lat, lon\n",
        "\n",
        "    data['get.point_count'] = [len(get_coordinates(x)[0]) for x in geo_polygons]\n",
        "\n",
        "    def get_latitude(polygons) -> float:\n",
        "        lat, lon = get_coordinates(polygons)\n",
        "        return (np.max(lat) + np.min(lat)) / 2\n",
        "\n",
        "    def get_latitude_delta(polygons) -> float:\n",
        "        lat, lon = get_coordinates(polygons)\n",
        "        return (np.max(lat) - np.min(lat))\n",
        "\n",
        "    def get_longitude(polygons) -> float:\n",
        "        lat, lon = get_coordinates(polygons)\n",
        "        return (np.max(lon) + np.min(lon)) / 2\n",
        "\n",
        "    def get_longitude_delta(polygons) -> float:\n",
        "        lat, lon = get_coordinates(polygons)\n",
        "        return (np.max(lon) - np.min(lon))\n",
        "\n",
        "    data['latitude'] = [get_latitude(x) for x in geo_polygons]\n",
        "    data['longitude'] = [get_longitude(x) for x in geo_polygons]\n",
        "\n",
        "    data['latitude_delta'] = [get_latitude_delta(x) for x in geo_polygons]\n",
        "    data['longitude_delta'] = [get_longitude_delta(x) for x in geo_polygons]\n",
        "\n",
        "    data['latitude_delta / longitude_delta'] = data['latitude_delta'] / data['longitude_delta']\n",
        "\n",
        "    #for i in range(1, len(nd_mean_columns)):\n",
        "    #    column0 = nd_mean_columns[i - 1]\n",
        "    #    column1 = nd_mean_columns[i]\n",
        "    #    data[f'{column1} - {column0}'] = data[column1] - data[column0]\n",
        "\n",
        "    date = nd_mean_dates[0]\n",
        "    nd_mean_date_indexes = []\n",
        "    date_count = 0\n",
        "    while date <= nd_mean_dates[-1]:\n",
        "        if date in nd_mean_dates:\n",
        "            nd_mean_date_indexes.append(date_count)\n",
        "        date_count += 1\n",
        "        date = date + pd.tseries.offsets.Day()\n",
        "    nd_mean_date_indexes = np.array(nd_mean_date_indexes)\n",
        "\n",
        "    def interpolate_nd_mean(arr):\n",
        "        result = []\n",
        "        x = list(range(date_count))\n",
        "        for i in range(arr.shape[0]):\n",
        "            xp_i = arr[i].nonzero()[0]\n",
        "            xp = nd_mean_date_indexes[xp_i]\n",
        "            fp = arr[i][xp_i]\n",
        "            result.append(np.interp(x, xp, fp)[nd_mean_date_indexes])\n",
        "        return np.array(result)\n",
        "\n",
        "    #data[nd_mean_columns] = interpolate_nd_mean(data[nd_mean_columns].to_numpy())\n",
        "\n",
        "    x = data[nd_mean_columns].to_numpy()\n",
        "    data['nd_mean.eq.0'] = (x == 0).sum(axis=1)\n",
        "    data['nd_mean.lt.05'] = (x < 0.05).sum(axis=1)\n",
        "    data['nd_mean.lt.10'] = (x < 0.1).sum(axis=1)\n",
        "    data['nd_mean.lt.15'] = (x < 0.15).sum(axis=1)\n",
        "    data['nd_mean.lt.20'] = (x < 0.20).sum(axis=1)\n",
        "    data['nd_mean.lt.30'] = (x < 0.30).sum(axis=1)\n",
        "    #x[x <= 0.1] = 0\n",
        "    data[nd_mean_columns] = x * x\n",
        "    \n",
        "    data['nd_mean_2021-05-15 * nd_mean_2021-05-26'] = data['nd_mean_2021-05-15'] * data['nd_mean_2021-05-26']\n",
        "    data['nd_mean_2021-06-16 * nd_mean_2021-05-26'] = data['nd_mean_2021-06-16'] * data['nd_mean_2021-05-26']\n",
        "    data['nd_mean_2021-05-17 * nd_mean_2021-05-26'] = data['nd_mean_2021-05-17'] * data['nd_mean_2021-05-26']\n",
        "    data['nd_mean_2021-07-17 * nd_mean_2021-05-26'] = data['nd_mean_2021-07-17'] * data['nd_mean_2021-05-26']\n",
        "    data['nd_mean_2021-08-01 * nd_mean_2021-05-26'] = data['nd_mean_2021-08-01'] * data['nd_mean_2021-05-26']\n",
        "    \n",
        "    #x = data[nd_mean_columns].to_numpy()\n",
        "    #data[nd_mean_columns] = np.log1p(x)\n",
        "\n",
        "    def get_nd_mean_delta(arr):\n",
        "        result = []\n",
        "        x = list(range(date_count))\n",
        "        for i in range(arr.shape[0]):\n",
        "            xp_i = arr[i].nonzero()[0]\n",
        "            xp = nd_mean_date_indexes[xp_i]\n",
        "            fp = arr[i][xp_i]\n",
        "            f = np.interp(x, xp, fp)\n",
        "            result.append((f[1:] - f[:-1])[nd_mean_date_indexes[1:] - 1])\n",
        "        return np.array(result)\n",
        "\n",
        "    nd_mean_delta_columns = [x + '_delta' for x in nd_mean_columns[1:]]\n",
        "    data[nd_mean_delta_columns] = get_nd_mean_delta(data[nd_mean_columns].to_numpy())\n",
        " \n",
        "    data = data.copy()  # defragmentation\n",
        "    return data\n",
        "\n",
        "\n",
        "train_data = create_features(input_train_data, True)\n",
        "test_data = create_features(input_test_data, False)\n",
        "\n",
        "for i in range(TARGET_COUNT):\n",
        "    train_data[f'target{i}'] = train_data[TARGET_COLUMN] == i\n",
        "    \n",
        "record_count = 7000\n",
        "geo_matrix = np.zeros((record_count, record_count), dtype=float)\n",
        "geo_x = np.zeros(record_count, dtype=float)\n",
        "geo_y = np.zeros(record_count, dtype=float)\n",
        "\n",
        "for item in train_data.itertuples():\n",
        "    x, y = reproject([item.latitude], [item.longitude])\n",
        "    geo_x[item.id] = x[0]\n",
        "    geo_y[item.id] = y[0]\n",
        "\n",
        "for item in test_data.itertuples():\n",
        "    x, y = reproject([item.latitude], [item.longitude])\n",
        "    geo_x[item.id] = x[0]\n",
        "    geo_y[item.id] = y[0]\n",
        "\n",
        "for i in range(record_count):\n",
        "    d = np.sqrt((geo_x - geo_x[i]) ** 2 + (geo_y - geo_y[i]) ** 2)\n",
        "    geo_matrix[i] = d\n",
        "    geo_matrix[:,i] = d\n",
        "\n",
        "geo_matrix[geo_matrix == 0] = 1e20"
      ],
      "metadata": {
        "execution": {
          "iopub.status.busy": "2022-11-20T10:20:51.806297Z",
          "iopub.execute_input": "2022-11-20T10:20:51.806670Z",
          "iopub.status.idle": "2022-11-20T10:20:56.231487Z",
          "shell.execute_reply.started": "2022-11-20T10:20:51.806638Z",
          "shell.execute_reply": "2022-11-20T10:20:56.230482Z"
        },
        "trusted": true,
        "id": "F1KJcwUEIcbd"
      },
      "execution_count": null,
      "outputs": []
    },
    {
      "cell_type": "markdown",
      "source": [
        "## Конфигурация"
      ],
      "metadata": {
        "id": "aclWd8UcIcbf"
      }
    },
    {
      "cell_type": "code",
      "source": [
        "DEFAULT_FEATURES = [\n",
        "    'area',\n",
        "\n",
        "    'nd_mean_2021-04-15',\n",
        "    'nd_mean_2021-04-16',\n",
        "    'nd_mean_2021-04-18',\n",
        "    'nd_mean_2021-04-19',\n",
        "    #'nd_mean_2021-04-20',\n",
        "    #'nd_mean_2021-04-22',\n",
        "    #'nd_mean_2021-04-23',\n",
        "    'nd_mean_2021-04-25',\n",
        "    'nd_mean_2021-04-26',\n",
        "    'nd_mean_2021-04-27',\n",
        "    'nd_mean_2021-04-28',\n",
        "    'nd_mean_2021-04-29',\n",
        "    'nd_mean_2021-04-30',\n",
        "    'nd_mean_2021-05-01',\n",
        "    'nd_mean_2021-05-02',\n",
        "    'nd_mean_2021-05-03',\n",
        "    'nd_mean_2021-05-04',\n",
        "    'nd_mean_2021-05-07',\n",
        "    'nd_mean_2021-05-08',\n",
        "    #'nd_mean_2021-05-09',\n",
        "    'nd_mean_2021-05-10',\n",
        "    'nd_mean_2021-05-15',\n",
        "    'nd_mean_2021-05-16',\n",
        "    'nd_mean_2021-05-17',\n",
        "    'nd_mean_2021-05-19',\n",
        "    'nd_mean_2021-05-20',\n",
        "    'nd_mean_2021-05-21',\n",
        "    'nd_mean_2021-05-24',\n",
        "    'nd_mean_2021-05-26',\n",
        "    'nd_mean_2021-05-27',\n",
        "    'nd_mean_2021-05-29',\n",
        "    'nd_mean_2021-06-02',\n",
        "    'nd_mean_2021-06-03',\n",
        "    'nd_mean_2021-06-04',\n",
        "    'nd_mean_2021-06-05',\n",
        "    'nd_mean_2021-06-06',\n",
        "    'nd_mean_2021-06-07',\n",
        "    'nd_mean_2021-06-09',\n",
        "    'nd_mean_2021-06-10',\n",
        "    'nd_mean_2021-06-12',\n",
        "    'nd_mean_2021-06-13',\n",
        "    'nd_mean_2021-06-16',\n",
        "    'nd_mean_2021-06-18',\n",
        "    'nd_mean_2021-06-19',\n",
        "    'nd_mean_2021-06-20',\n",
        "    #'nd_mean_2021-06-22',\n",
        "    #'nd_mean_2021-06-25',\n",
        "    'nd_mean_2021-06-27',\n",
        "    'nd_mean_2021-06-28',\n",
        "    'nd_mean_2021-07-04',\n",
        "    'nd_mean_2021-07-05',\n",
        "    'nd_mean_2021-07-07',\n",
        "    #'nd_mean_2021-07-08',\n",
        "    'nd_mean_2021-07-09',\n",
        "    'nd_mean_2021-07-13',\n",
        "    'nd_mean_2021-07-15',\n",
        "    'nd_mean_2021-07-17',\n",
        "    'nd_mean_2021-07-20',\n",
        "    'nd_mean_2021-07-26',\n",
        "    'nd_mean_2021-07-27',\n",
        "    'nd_mean_2021-07-29',\n",
        "    'nd_mean_2021-07-31',\n",
        "    'nd_mean_2021-08-01',\n",
        "    'nd_mean_2021-08-07',\n",
        "    'nd_mean_2021-08-10',\n",
        "    'nd_mean_2021-08-11',\n",
        "    'nd_mean_2021-08-12',\n",
        "    'nd_mean_2021-08-13',\n",
        "    'nd_mean_2021-08-23',\n",
        "    #'nd_mean_2021-08-27',\n",
        "    \n",
        "    #'nd_mean_2021-05-15 * nd_mean_2021-05-26',\n",
        "    #'nd_mean_2021-06-16 * nd_mean_2021-05-26',\n",
        "    #'nd_mean_2021-05-17 * nd_mean_2021-05-26',\n",
        "    #'nd_mean_2021-07-17 * nd_mean_2021-05-26',\n",
        "    #'nd_mean_2021-08-01 * nd_mean_2021-05-26',\n",
        "    \n",
        "    #'nd_mean.eq.0',\n",
        "    #'nd_mean.lt.05',\n",
        "    #'nd_mean.lt.10',\n",
        "    #'nd_mean.lt.15',\n",
        "    #'nd_mean.lt.20',\n",
        "    #'nd_mean.lt.30',\n",
        "\n",
        "    #'nd_mean.min',\n",
        "    #'nd_mean.max',\n",
        "    #'nd_mean.mean',\n",
        "    #'nd_mean.std',\n",
        "    #'nd_mean.sum',\n",
        "\n",
        "    #'nd_mean.nonzero.mean',\n",
        "    #'nd_mean.nonzero.std',\n",
        "    #'nd_mean.nonzero.count',\n",
        "\n",
        "    #'geo.is_polygon',\n",
        "    #'geo.is_multi_polygon',\n",
        "    #'geo.is_geometry_collection',\n",
        "    #'geo.polygon_count',\n",
        "    #'geo.polygon_part_count',\n",
        "    #'get.point_count',\n",
        "\n",
        "    'latitude',\n",
        "    'longitude',\n",
        "\n",
        "    #'latitude_delta',\n",
        "    #'longitude_delta',\n",
        "    #'latitude_delta / longitude_delta',\n",
        "\n",
        "    #'id',\n",
        "]\n",
        "\n",
        "FEATURES = {\n",
        "    0: DEFAULT_FEATURES,\n",
        "    1: DEFAULT_FEATURES,\n",
        "    2: DEFAULT_FEATURES,\n",
        "    3: DEFAULT_FEATURES,\n",
        "    4: DEFAULT_FEATURES,\n",
        "    5: DEFAULT_FEATURES,\n",
        "    6: DEFAULT_FEATURES,\n",
        "}\n",
        "\n",
        "SEED_COUNT = 5\n",
        "\n",
        "FOLD_COUNT = 5"
      ],
      "metadata": {
        "execution": {
          "iopub.status.busy": "2022-11-20T11:01:09.958197Z",
          "iopub.execute_input": "2022-11-20T11:01:09.959239Z",
          "iopub.status.idle": "2022-11-20T11:01:09.970298Z",
          "shell.execute_reply.started": "2022-11-20T11:01:09.959204Z",
          "shell.execute_reply": "2022-11-20T11:01:09.969300Z"
        },
        "trusted": true,
        "id": "i9lEHadfIcbf"
      },
      "execution_count": null,
      "outputs": []
    },
    {
      "cell_type": "markdown",
      "source": [
        "## Обучение моделей"
      ],
      "metadata": {
        "id": "FCl7gP7NIcbg"
      }
    },
    {
      "cell_type": "markdown",
      "source": [
        "### Бинарные классификаторы"
      ],
      "metadata": {
        "id": "rehQAyhdIcbh"
      }
    },
    {
      "cell_type": "code",
      "source": [
        "results = defaultdict(list)\n",
        "models = defaultdict(list)\n",
        "best_iterations_for_f1 = defaultdict(list)\n",
        "best_iterations_for_recall_macro = defaultdict(list)\n",
        "metrics = defaultdict(list)\n",
        "\n",
        "y_true_values = []\n",
        "y_pred_values = []\n",
        "\n",
        "for seed in tqdm(range(1, 1 + SEED_COUNT)):\n",
        "    print(f'Seed: {seed}')\n",
        "    k_fold = KFold(FOLD_COUNT, shuffle=True, random_state=seed)\n",
        "\n",
        "    for fold, (train_index, val_index) in tqdm(enumerate(k_fold.split(train_data)), total=k_fold.n_splits):\n",
        "        print(f'  Fold: {fold}')\n",
        "        \n",
        "        train_df = train_data.iloc[train_index]\n",
        "        val_df = train_data.iloc[val_index]\n",
        "\n",
        "        for target_index in range(TARGET_COUNT):\n",
        "            target_name = TARGET_NAMES[target_index]\n",
        "            target_column = f'target{target_index}'\n",
        "            feature_names = FEATURES[target_index]\n",
        "            \n",
        "            train_X = train_df[feature_names].to_numpy(dtype='float32')\n",
        "            train_y = train_df[target_column].to_numpy()\n",
        "            val_X = val_df[feature_names].to_numpy(dtype='float32')\n",
        "            val_y = val_df[target_column].to_numpy()\n",
        "\n",
        "            model = TabNetClassifier(seed=1, verbose=0, n_d=8, n_a=8, device_name='cuda')\n",
        "            model.fit(\n",
        "                train_X, train_y,\n",
        "                max_epochs=300,\n",
        "                batch_size=1024,\n",
        "                patience=300,\n",
        "                eval_set=[(val_X, val_y)],\n",
        "                eval_name=['valid'],\n",
        "                eval_metric=['balanced_accuracy'],\n",
        "                drop_last=False,\n",
        "            )\n",
        "\n",
        "            print(f'    {target_name:<20} {model.best_cost:<10} {model.best_epoch}')\n",
        "\n",
        "            results[target_index].append(model.history)\n",
        "            models[target_index].append(model)\n",
        "            best_iterations_for_f1[target_index].append(model.best_epoch)\n",
        "            metrics[target_index].append(model.best_cost)\n",
        "\n",
        "        predicts = []\n",
        "        for target_index in range(TARGET_COUNT):\n",
        "            best_iter = best_iterations_for_f1[target_index][-1]\n",
        "            model = models[target_index][-1]\n",
        "            predicts.append(model.predict_proba(val_X)[:,1])\n",
        "            best_iterations_for_recall_macro[target_index].append(best_iter)\n",
        "\n",
        "        y_true = np.array(val_df[TARGET_COLUMN])\n",
        "        y_pred = np.argmax(predicts, axis=0)\n",
        "\n",
        "        y_true_values.append(y_true)\n",
        "        y_pred_values.append(y_pred)\n",
        "\n",
        "        best_score = recall_score(y_true, y_pred, average='macro')\n",
        "\n",
        "        #fixed_iterations = list(range(30, 1000, 10))\n",
        "        #\n",
        "        #for search_stage in range(5):\n",
        "        #    for target_index in range(TARGET_COUNT):\n",
        "        #        for fixed_iter in fixed_iterations:\n",
        "        #            predicts = []\n",
        "        #            for i in range(TARGET_COUNT):\n",
        "        #                if target_index == i:\n",
        "        #                    best_iter = fixed_iter\n",
        "        #                else:\n",
        "        #                    best_iter = best_iterations_for_recall_macro[i][-1]\n",
        "        #                predicts.append(predicts_result[i][best_iter])\n",
        "        #\n",
        "        #            y_pred = np.argmax(predicts, axis=0)\n",
        "        #            score = recall_score(y_true, y_pred, average='macro')\n",
        "        #        \n",
        "        #            if score > best_score:\n",
        "        #                best_score = score\n",
        "        #                y_pred_values[-1] = y_pred\n",
        "        #                best_iterations_for_recall_macro[target_index][-1] = fixed_iter\n",
        "        \n",
        "        print('   ', best_score)\n",
        "\n",
        "    print('  Mean:')\n",
        "    for target_index in range(TARGET_COUNT):\n",
        "        target_name = TARGET_NAMES[target_index]\n",
        "        score = np.mean(metrics[target_index][-FOLD_COUNT:])\n",
        "        print(f'    {target_name:<20} {score}')\n",
        "\n",
        "    y_true = np.concatenate(y_true_values[-FOLD_COUNT:])\n",
        "    y_pred = np.concatenate(y_pred_values[-FOLD_COUNT:])\n",
        "\n",
        "    print('  Report:')\n",
        "    report = classification_report(y_true, y_pred, target_names=TARGET_NAMES, digits=3)\n",
        "    print(textwrap.indent(report, '    '))\n",
        "\n",
        "print('\\n[Summary]')\n",
        "\n",
        "print('Mean:')\n",
        "for target_index in range(TARGET_COUNT):\n",
        "    score = np.mean(metrics[target_index])\n",
        "    print(f'  {TARGET_NAMES[target_index]:<20} {score}')\n",
        "\n",
        "print('Min:')\n",
        "for target_index in range(TARGET_COUNT):\n",
        "    score = np.min(metrics[target_index])\n",
        "    print(f'  {TARGET_NAMES[target_index]:<20} {score}')\n",
        "\n",
        "print('Max:')\n",
        "for target_index in range(TARGET_COUNT):\n",
        "    score = np.max(metrics[target_index])\n",
        "    print(f'  {TARGET_NAMES[target_index]:<20} {score}')\n",
        "\n",
        "print('Report:')\n",
        "y_true = np.concatenate(y_true_values)\n",
        "y_pred = np.concatenate(y_pred_values)\n",
        "report = classification_report(y_true, y_pred, target_names=TARGET_NAMES, digits=3)\n",
        "print(textwrap.indent(report, '  '))\n",
        "\n",
        "print('Metrics:')\n",
        "print('  Accuracy:', accuracy_score(y_true, y_pred))\n",
        "print('  Recall (macro):', recall_score(y_true, y_pred, average='macro'))\n",
        "print('  Precision (macro):', precision_score(y_true, y_pred, average='macro'))\n",
        "print('  F1 (macro):', f1_score(y_true, y_pred, average='macro'))"
      ],
      "metadata": {
        "execution": {
          "iopub.status.busy": "2022-11-19T17:04:55.660049Z",
          "iopub.execute_input": "2022-11-19T17:04:55.660441Z",
          "iopub.status.idle": "2022-11-19T19:26:07.673773Z",
          "shell.execute_reply.started": "2022-11-19T17:04:55.660409Z",
          "shell.execute_reply": "2022-11-19T19:26:07.672777Z"
        },
        "jupyter": {
          "source_hidden": true,
          "outputs_hidden": true
        },
        "collapsed": true,
        "trusted": true,
        "colab": {
          "referenced_widgets": [
            "9ebbc655727c4c86895fe7e3ecd5b07f",
            "d497470aa6374dc3b26f3a10b2356678",
            "d52d717822c44db4b4ed34ceb15f5228",
            "ce5ba942d0254ea4a5aed2b32f6b37c7",
            "be0fce74cf4245a697d318836a5a384c",
            "bbee884a3f2d4a7882e0a9793c78c4c0"
          ]
        },
        "id": "Lwnbk9UaIcbh",
        "outputId": "89c5d47e-ae2c-4932-a7a8-51afb6b2e3d1"
      },
      "execution_count": null,
      "outputs": [
        {
          "output_type": "display_data",
          "data": {
            "text/plain": "  0%|          | 0/5 [00:00<?, ?it/s]",
            "application/vnd.jupyter.widget-view+json": {
              "version_major": 2,
              "version_minor": 0,
              "model_id": "9ebbc655727c4c86895fe7e3ecd5b07f"
            }
          },
          "metadata": {}
        },
        {
          "name": "stdout",
          "text": "Seed: 1\n",
          "output_type": "stream"
        },
        {
          "output_type": "display_data",
          "data": {
            "text/plain": "  0%|          | 0/5 [00:00<?, ?it/s]",
            "application/vnd.jupyter.widget-view+json": {
              "version_major": 2,
              "version_minor": 0,
              "model_id": "d497470aa6374dc3b26f3a10b2356678"
            }
          },
          "metadata": {}
        },
        {
          "name": "stdout",
          "text": "  Fold: 0\nStop training because you reached max_epochs = 300 with best_epoch = 298 and best_valid_balanced_accuracy = 0.96243\n    подсолнечник         0.962434179721193 298\nStop training because you reached max_epochs = 300 with best_epoch = 91 and best_valid_balanced_accuracy = 1.0\n    картофель            1.0        91\nStop training because you reached max_epochs = 300 with best_epoch = 252 and best_valid_balanced_accuracy = 0.97308\n    пшеница озимая       0.9730775525472868 252\nStop training because you reached max_epochs = 300 with best_epoch = 127 and best_valid_balanced_accuracy = 1.0\n    гречиха              1.0        127\nStop training because you reached max_epochs = 300 with best_epoch = 295 and best_valid_balanced_accuracy = 0.94969\n    кукуруза             0.9496913580246913 295\nStop training because you reached max_epochs = 300 with best_epoch = 190 and best_valid_balanced_accuracy = 0.99878\n    пшеница яровая       0.9987789987789988 190\nStop training because you reached max_epochs = 300 with best_epoch = 268 and best_valid_balanced_accuracy = 0.94331\n    сахарная свекла      0.9433126314245195 268\n    0.9543917818079845\n  Fold: 1\nStop training because you reached max_epochs = 300 with best_epoch = 151 and best_valid_balanced_accuracy = 0.95032\n    подсолнечник         0.9503230000406289 151\nStop training because you reached max_epochs = 300 with best_epoch = 299 and best_valid_balanced_accuracy = 1.0\n    картофель            1.0        299\nStop training because you reached max_epochs = 300 with best_epoch = 273 and best_valid_balanced_accuracy = 0.99306\n    пшеница озимая       0.9930555555555556 273\nStop training because you reached max_epochs = 300 with best_epoch = 148 and best_valid_balanced_accuracy = 1.0\n    гречиха              1.0        148\nStop training because you reached max_epochs = 300 with best_epoch = 285 and best_valid_balanced_accuracy = 0.95163\n    кукуруза             0.951634382566586 285\nStop training because you reached max_epochs = 300 with best_epoch = 180 and best_valid_balanced_accuracy = 1.0\n    пшеница яровая       1.0        180\nStop training because you reached max_epochs = 300 with best_epoch = 250 and best_valid_balanced_accuracy = 0.96356\n    сахарная свекла      0.9635593220338983 250\n    0.9635250182185127\n  Fold: 2\nStop training because you reached max_epochs = 300 with best_epoch = 187 and best_valid_balanced_accuracy = 0.96855\n    подсолнечник         0.968545508001176 187\nStop training because you reached max_epochs = 300 with best_epoch = 288 and best_valid_balanced_accuracy = 0.99564\n    картофель            0.9956403614077209 288\nStop training because you reached max_epochs = 300 with best_epoch = 129 and best_valid_balanced_accuracy = 0.99161\n    пшеница озимая       0.991605415860735 129\nStop training because you reached max_epochs = 300 with best_epoch = 114 and best_valid_balanced_accuracy = 1.0\n    гречиха              1.0        114\nStop training because you reached max_epochs = 300 with best_epoch = 297 and best_valid_balanced_accuracy = 0.95608\n    кукуруза             0.9560759902411022 297\nStop training because you reached max_epochs = 300 with best_epoch = 145 and best_valid_balanced_accuracy = 0.9994\n    пшеница яровая       0.9994040524433849 145\nStop training because you reached max_epochs = 300 with best_epoch = 254 and best_valid_balanced_accuracy = 0.96105\n    сахарная свекла      0.9610483430635475 254\n    0.9663106430134053\n  Fold: 3\nStop training because you reached max_epochs = 300 with best_epoch = 154 and best_valid_balanced_accuracy = 0.94352\n    подсолнечник         0.9435218612113918 154\nStop training because you reached max_epochs = 300 with best_epoch = 237 and best_valid_balanced_accuracy = 0.99938\n    картофель            0.999384236453202 237\nStop training because you reached max_epochs = 300 with best_epoch = 129 and best_valid_balanced_accuracy = 0.98295\n    пшеница озимая       0.9829464918497519 129\nStop training because you reached max_epochs = 300 with best_epoch = 182 and best_valid_balanced_accuracy = 0.99939\n    гречиха              0.9993946731234866 182\nStop training because you reached max_epochs = 300 with best_epoch = 126 and best_valid_balanced_accuracy = 0.96982\n    кукуруза             0.9698225296331403 126\nStop training because you reached max_epochs = 300 with best_epoch = 128 and best_valid_balanced_accuracy = 0.99653\n    пшеница яровая       0.9965277777777778 128\nStop training because you reached max_epochs = 300 with best_epoch = 165 and best_valid_balanced_accuracy = 0.96351\n    сахарная свекла      0.9635075450864925 165\n    0.9634512314919912\n  Fold: 4\nStop training because you reached max_epochs = 300 with best_epoch = 216 and best_valid_balanced_accuracy = 0.9658\n    подсолнечник         0.9658035415970598 216\nStop training because you reached max_epochs = 300 with best_epoch = 189 and best_valid_balanced_accuracy = 1.0\n    картофель            1.0        189\nStop training because you reached max_epochs = 300 with best_epoch = 197 and best_valid_balanced_accuracy = 0.98708\n    пшеница озимая       0.9870838347372644 197\nStop training because you reached max_epochs = 300 with best_epoch = 125 and best_valid_balanced_accuracy = 1.0\n    гречиха              1.0        125\nStop training because you reached max_epochs = 300 with best_epoch = 295 and best_valid_balanced_accuracy = 0.96025\n    кукуруза             0.9602484472049689 295\nStop training because you reached max_epochs = 300 with best_epoch = 161 and best_valid_balanced_accuracy = 1.0\n    пшеница яровая       1.0        161\nStop training because you reached max_epochs = 300 with best_epoch = 147 and best_valid_balanced_accuracy = 0.97\n    сахарная свекла      0.9700036805299963 147\n    0.9671090082006444\n  Mean:\n    подсолнечник         0.95812561811429\n    картофель            0.9990049195721845\n    пшеница озимая       0.9855537701101188\n    гречиха              0.9998789346246972\n    кукуруза             0.9574945415340977\n    пшеница яровая       0.9989421658000323\n    сахарная свекла      0.9602863044276907\n  Report:\n                     precision    recall  f1-score   support\n\n       подсолнечник      0.904     0.935     0.919       726\n          картофель      0.994     0.997     0.996       700\n     пшеница озимая      0.968     0.964     0.966       697\n            гречиха      1.000     0.998     0.999       655\n           кукуруза      0.944     0.922     0.933       718\n     пшеница яровая      0.998     0.993     0.995       668\n    сахарная свекла      0.934     0.931     0.932       666\n\n           accuracy                          0.962      4830\n          macro avg      0.963     0.963     0.963      4830\n       weighted avg      0.963     0.962     0.962      4830\n\nSeed: 2\n",
          "output_type": "stream"
        },
        {
          "output_type": "display_data",
          "data": {
            "text/plain": "  0%|          | 0/5 [00:00<?, ?it/s]",
            "application/vnd.jupyter.widget-view+json": {
              "version_major": 2,
              "version_minor": 0,
              "model_id": "d52d717822c44db4b4ed34ceb15f5228"
            }
          },
          "metadata": {}
        },
        {
          "name": "stdout",
          "text": "  Fold: 0\nStop training because you reached max_epochs = 300 with best_epoch = 298 and best_valid_balanced_accuracy = 0.96599\n    подсолнечник         0.9659914978744686 298\nStop training because you reached max_epochs = 300 with best_epoch = 150 and best_valid_balanced_accuracy = 1.0\n    картофель            1.0        150\nStop training because you reached max_epochs = 300 with best_epoch = 226 and best_valid_balanced_accuracy = 0.98055\n    пшеница озимая       0.980546185284946 226\nStop training because you reached max_epochs = 300 with best_epoch = 111 and best_valid_balanced_accuracy = 1.0\n    гречиха              1.0        111\nStop training because you reached max_epochs = 300 with best_epoch = 173 and best_valid_balanced_accuracy = 0.96306\n    кукуруза             0.9630636678024285 173\nStop training because you reached max_epochs = 300 with best_epoch = 187 and best_valid_balanced_accuracy = 0.9966\n    пшеница яровая       0.9965986394557823 187\nStop training because you reached max_epochs = 300 with best_epoch = 182 and best_valid_balanced_accuracy = 0.96264\n    сахарная свекла      0.9626420644471186 182\n    0.9707634242043355\n  Fold: 1\nStop training because you reached max_epochs = 300 with best_epoch = 200 and best_valid_balanced_accuracy = 0.94209\n    подсолнечник         0.9420896563753707 200\nStop training because you reached max_epochs = 300 with best_epoch = 157 and best_valid_balanced_accuracy = 0.99939\n    картофель            0.9993939393939394 157\nStop training because you reached max_epochs = 300 with best_epoch = 187 and best_valid_balanced_accuracy = 0.99394\n    пшеница озимая       0.9939378197282804 187\nStop training because you reached max_epochs = 300 with best_epoch = 109 and best_valid_balanced_accuracy = 1.0\n    гречиха              1.0        109\nStop training because you reached max_epochs = 300 with best_epoch = 298 and best_valid_balanced_accuracy = 0.96178\n    кукуруза             0.9617758784425451 298\nStop training because you reached max_epochs = 300 with best_epoch = 187 and best_valid_balanced_accuracy = 1.0\n    пшеница яровая       1.0        187\nStop training because you reached max_epochs = 300 with best_epoch = 246 and best_valid_balanced_accuracy = 0.94829\n    сахарная свекла      0.9482860520094563 246\n    0.9596559391616813\n  Fold: 2\nStop training because you reached max_epochs = 300 with best_epoch = 210 and best_valid_balanced_accuracy = 0.96413\n    подсолнечник         0.9641300376415808 210\nStop training because you reached max_epochs = 300 with best_epoch = 206 and best_valid_balanced_accuracy = 1.0\n    картофель            1.0        206\nStop training because you reached max_epochs = 300 with best_epoch = 256 and best_valid_balanced_accuracy = 0.98735\n    пшеница озимая       0.9873539159253445 256\nStop training because you reached max_epochs = 300 with best_epoch = 103 and best_valid_balanced_accuracy = 1.0\n    гречиха              1.0        103\nStop training because you reached max_epochs = 300 with best_epoch = 189 and best_valid_balanced_accuracy = 0.9684\n    кукуруза             0.9683951743714517 189\nStop training because you reached max_epochs = 300 with best_epoch = 106 and best_valid_balanced_accuracy = 1.0\n    пшеница яровая       1.0        106\nStop training because you reached max_epochs = 300 with best_epoch = 157 and best_valid_balanced_accuracy = 0.94903\n    сахарная свекла      0.9490283782236975 157\n    0.9664930083563525\n  Fold: 3\nStop training because you reached max_epochs = 300 with best_epoch = 214 and best_valid_balanced_accuracy = 0.9653\n    подсолнечник         0.9653029225397647 214\nStop training because you reached max_epochs = 300 with best_epoch = 291 and best_valid_balanced_accuracy = 0.99878\n    картофель            0.9987834549878345 291\nStop training because you reached max_epochs = 300 with best_epoch = 185 and best_valid_balanced_accuracy = 0.98444\n    пшеница озимая       0.9844397209505124 185\nStop training because you reached max_epochs = 300 with best_epoch = 112 and best_valid_balanced_accuracy = 1.0\n    гречиха              1.0        112\nStop training because you reached max_epochs = 300 with best_epoch = 188 and best_valid_balanced_accuracy = 0.9796\n    кукуруза             0.9796017303102625 188\nStop training because you reached max_epochs = 300 with best_epoch = 155 and best_valid_balanced_accuracy = 0.99938\n    пшеница яровая       0.999384236453202 155\nStop training because you reached max_epochs = 300 with best_epoch = 162 and best_valid_balanced_accuracy = 0.9575\n    сахарная свекла      0.9575031037306402 162\n    0.9700378033901369\n  Fold: 4\nStop training because you reached max_epochs = 300 with best_epoch = 195 and best_valid_balanced_accuracy = 0.93003\n    подсолнечник         0.9300346048287658 195\nStop training because you reached max_epochs = 300 with best_epoch = 141 and best_valid_balanced_accuracy = 0.9994\n    картофель            0.9993997599039616 141\nStop training because you reached max_epochs = 300 with best_epoch = 290 and best_valid_balanced_accuracy = 0.98309\n    пшеница озимая       0.9830917874396135 290\nStop training because you reached max_epochs = 300 with best_epoch = 136 and best_valid_balanced_accuracy = 1.0\n    гречиха              1.0        136\nStop training because you reached max_epochs = 300 with best_epoch = 197 and best_valid_balanced_accuracy = 0.93921\n    кукуруза             0.9392115820687249 197\nStop training because you reached max_epochs = 300 with best_epoch = 114 and best_valid_balanced_accuracy = 1.0\n    пшеница яровая       1.0        114\nStop training because you reached max_epochs = 300 with best_epoch = 248 and best_valid_balanced_accuracy = 0.9575\n    сахарная свекла      0.9575031037306402 248\n    0.9519332550749284\n  Mean:\n    подсолнечник         0.9535097438519902\n    картофель            0.9995154308571472\n    пшеница озимая       0.9858738858657393\n    гречиха              1.0\n    кукуруза             0.9624096065990825\n    пшеница яровая       0.9991965751817968\n    сахарная свекла      0.9549925404283105\n  Report:\n                     precision    recall  f1-score   support\n\n       подсолнечник      0.892     0.930     0.910       726\n          картофель      0.997     0.999     0.998       700\n     пшеница озимая      0.977     0.973     0.975       697\n            гречиха      0.998     0.995     0.997       655\n           кукуруза      0.949     0.933     0.941       718\n     пшеница яровая      0.998     0.994     0.996       668\n    сахарная свекла      0.939     0.922     0.930       666\n\n           accuracy                          0.963      4830\n          macro avg      0.964     0.964     0.964      4830\n       weighted avg      0.964     0.963     0.963      4830\n\nSeed: 3\n",
          "output_type": "stream"
        },
        {
          "output_type": "display_data",
          "data": {
            "text/plain": "  0%|          | 0/5 [00:00<?, ?it/s]",
            "application/vnd.jupyter.widget-view+json": {
              "version_major": 2,
              "version_minor": 0,
              "model_id": "ce5ba942d0254ea4a5aed2b32f6b37c7"
            }
          },
          "metadata": {}
        },
        {
          "name": "stdout",
          "text": "  Fold: 0\nStop training because you reached max_epochs = 300 with best_epoch = 207 and best_valid_balanced_accuracy = 0.94867\n    подсолнечник         0.9486706707547565 207\nStop training because you reached max_epochs = 300 with best_epoch = 270 and best_valid_balanced_accuracy = 1.0\n    картофель            1.0        270\nStop training because you reached max_epochs = 300 with best_epoch = 198 and best_valid_balanced_accuracy = 0.98736\n    пшеница озимая       0.9873584037990484 198\nStop training because you reached max_epochs = 300 with best_epoch = 107 and best_valid_balanced_accuracy = 1.0\n    гречиха              1.0        107\nStop training because you reached max_epochs = 300 with best_epoch = 235 and best_valid_balanced_accuracy = 0.95789\n    кукуруза             0.9578932610524349 235\nStop training because you reached max_epochs = 300 with best_epoch = 220 and best_valid_balanced_accuracy = 1.0\n    пшеница яровая       1.0        220\nStop training because you reached max_epochs = 300 with best_epoch = 253 and best_valid_balanced_accuracy = 0.93843\n    сахарная свекла      0.9384274726128505 253\n    0.9593769721374177\n  Fold: 1\nStop training because you reached max_epochs = 300 with best_epoch = 199 and best_valid_balanced_accuracy = 0.92795\n    подсолнечник         0.9279536253220464 199\nStop training because you reached max_epochs = 300 with best_epoch = 194 and best_valid_balanced_accuracy = 0.99237\n    картофель            0.9923664122137404 194\nStop training because you reached max_epochs = 300 with best_epoch = 299 and best_valid_balanced_accuracy = 0.98668\n    пшеница озимая       0.9866809116809117 299\nStop training because you reached max_epochs = 300 with best_epoch = 284 and best_valid_balanced_accuracy = 1.0\n    гречиха              1.0        284\nStop training because you reached max_epochs = 300 with best_epoch = 231 and best_valid_balanced_accuracy = 0.95894\n    кукуруза             0.9589371980676329 231\nStop training because you reached max_epochs = 300 with best_epoch = 116 and best_valid_balanced_accuracy = 0.9988\n    пшеница яровая       0.9987980769230769 116\nStop training because you reached max_epochs = 300 with best_epoch = 235 and best_valid_balanced_accuracy = 0.95725\n    сахарная свекла      0.9572510430986663 235\n    0.9501410342481096\n  Fold: 2\nStop training because you reached max_epochs = 300 with best_epoch = 275 and best_valid_balanced_accuracy = 0.95332\n    подсолнечник         0.9533197389243621 275\nStop training because you reached max_epochs = 300 with best_epoch = 270 and best_valid_balanced_accuracy = 0.99939\n    картофель            0.9993917274939172 270\nStop training because you reached max_epochs = 300 with best_epoch = 289 and best_valid_balanced_accuracy = 0.98948\n    пшеница озимая       0.9894800025273267 289\nStop training because you reached max_epochs = 300 with best_epoch = 109 and best_valid_balanced_accuracy = 0.9994\n    гречиха              0.9994026284348865 109\nStop training because you reached max_epochs = 300 with best_epoch = 291 and best_valid_balanced_accuracy = 0.95888\n    кукуруза             0.9588812528910329 291\nStop training because you reached max_epochs = 300 with best_epoch = 126 and best_valid_balanced_accuracy = 0.9988\n    пшеница яровая       0.9987995198079231 126\nStop training because you reached max_epochs = 300 with best_epoch = 298 and best_valid_balanced_accuracy = 0.93611\n    сахарная свекла      0.9361063631419471 298\n    0.9562591763945394\n  Fold: 3\nStop training because you reached max_epochs = 300 with best_epoch = 170 and best_valid_balanced_accuracy = 0.95598\n    подсолнечник         0.9559781927559845 170\nStop training because you reached max_epochs = 300 with best_epoch = 178 and best_valid_balanced_accuracy = 0.9994\n    картофель            0.9993975903614458 178\nStop training because you reached max_epochs = 300 with best_epoch = 214 and best_valid_balanced_accuracy = 0.98543\n    пшеница озимая       0.9854322770376762 214\nStop training because you reached max_epochs = 300 with best_epoch = 125 and best_valid_balanced_accuracy = 1.0\n    гречиха              1.0        125\nStop training because you reached max_epochs = 300 with best_epoch = 295 and best_valid_balanced_accuracy = 0.96537\n    кукуруза             0.9653746929287771 295\nStop training because you reached max_epochs = 300 with best_epoch = 185 and best_valid_balanced_accuracy = 0.99643\n    пшеница яровая       0.9964285714285714 185\nStop training because you reached max_epochs = 300 with best_epoch = 289 and best_valid_balanced_accuracy = 0.96896\n    сахарная свекла      0.9689561775123272 289\n    0.9637695732455415\n  Fold: 4\nStop training because you reached max_epochs = 300 with best_epoch = 246 and best_valid_balanced_accuracy = 0.95372\n    подсолнечник         0.9537207654145996 246\nStop training because you reached max_epochs = 300 with best_epoch = 159 and best_valid_balanced_accuracy = 0.99939\n    картофель            0.9993932038834952 159\nStop training because you reached max_epochs = 300 with best_epoch = 269 and best_valid_balanced_accuracy = 0.98715\n    пшеница озимая       0.9871502433090025 269\nStop training because you reached max_epochs = 300 with best_epoch = 97 and best_valid_balanced_accuracy = 1.0\n    гречиха              1.0        97\nStop training because you reached max_epochs = 300 with best_epoch = 280 and best_valid_balanced_accuracy = 0.96302\n    кукуруза             0.9630237294710979 280\nStop training because you reached max_epochs = 300 with best_epoch = 278 and best_valid_balanced_accuracy = 1.0\n    пшеница яровая       1.0        278\nStop training because you reached max_epochs = 300 with best_epoch = 277 and best_valid_balanced_accuracy = 0.96686\n    сахарная свекла      0.9668627450980392 277\n    0.963448054084341\n  Mean:\n    подсолнечник         0.9479285986343499\n    картофель            0.9981097867905199\n    пшеница озимая       0.9872203676707931\n    гречиха              0.9998805256869773\n    кукуруза             0.9608220268821952\n    пшеница яровая       0.9988052336319143\n    сахарная свекла      0.953520760292766\n  Report:\n                     precision    recall  f1-score   support\n\n       подсолнечник      0.895     0.926     0.910       726\n          картофель      0.997     0.994     0.996       700\n     пшеница озимая      0.967     0.971     0.969       697\n            гречиха      1.000     0.998     0.999       655\n           кукуруза      0.939     0.919     0.929       718\n     пшеница яровая      0.997     0.994     0.996       668\n    сахарная свекла      0.921     0.910     0.915       666\n\n           accuracy                          0.958      4830\n          macro avg      0.959     0.959     0.959      4830\n       weighted avg      0.959     0.958     0.958      4830\n\nSeed: 4\n",
          "output_type": "stream"
        },
        {
          "output_type": "display_data",
          "data": {
            "text/plain": "  0%|          | 0/5 [00:00<?, ?it/s]",
            "application/vnd.jupyter.widget-view+json": {
              "version_major": 2,
              "version_minor": 0,
              "model_id": "be0fce74cf4245a697d318836a5a384c"
            }
          },
          "metadata": {}
        },
        {
          "name": "stdout",
          "text": "  Fold: 0\nStop training because you reached max_epochs = 300 with best_epoch = 225 and best_valid_balanced_accuracy = 0.9679\n    подсолнечник         0.9679045776918118 225\nStop training because you reached max_epochs = 300 with best_epoch = 242 and best_valid_balanced_accuracy = 1.0\n    картофель            1.0        242\nStop training because you reached max_epochs = 300 with best_epoch = 279 and best_valid_balanced_accuracy = 0.98708\n    пшеница озимая       0.9870838347372644 279\nStop training because you reached max_epochs = 300 with best_epoch = 93 and best_valid_balanced_accuracy = 1.0\n    гречиха              1.0        93\nStop training because you reached max_epochs = 300 with best_epoch = 219 and best_valid_balanced_accuracy = 0.96477\n    кукуруза             0.9647715566199713 219\nStop training because you reached max_epochs = 300 with best_epoch = 152 and best_valid_balanced_accuracy = 1.0\n    пшеница яровая       1.0        152\nStop training because you reached max_epochs = 300 with best_epoch = 207 and best_valid_balanced_accuracy = 0.95074\n    сахарная свекла      0.9507420778178901 207\n    0.9676332835829652\n  Fold: 1\nStop training because you reached max_epochs = 300 with best_epoch = 186 and best_valid_balanced_accuracy = 0.9444\n    подсолнечник         0.9444043321299639 186\nStop training because you reached max_epochs = 300 with best_epoch = 235 and best_valid_balanced_accuracy = 0.99939\n    картофель            0.9993946731234866 235\nStop training because you reached max_epochs = 300 with best_epoch = 142 and best_valid_balanced_accuracy = 0.9809\n    пшеница озимая       0.9809000523286238 142\nStop training because you reached max_epochs = 300 with best_epoch = 129 and best_valid_balanced_accuracy = 1.0\n    гречиха              1.0        129\nStop training because you reached max_epochs = 300 with best_epoch = 189 and best_valid_balanced_accuracy = 0.94482\n    кукуруза             0.9448249199160499 189\nStop training because you reached max_epochs = 300 with best_epoch = 101 and best_valid_balanced_accuracy = 1.0\n    пшеница яровая       1.0        101\nStop training because you reached max_epochs = 300 with best_epoch = 245 and best_valid_balanced_accuracy = 0.96702\n    сахарная свекла      0.9670159606205251 245\n    0.9546078052193512\n  Fold: 2\nStop training because you reached max_epochs = 300 with best_epoch = 214 and best_valid_balanced_accuracy = 0.94135\n    подсолнечник         0.9413480392156863 214\nStop training because you reached max_epochs = 300 with best_epoch = 223 and best_valid_balanced_accuracy = 1.0\n    картофель            1.0        223\nStop training because you reached max_epochs = 300 with best_epoch = 267 and best_valid_balanced_accuracy = 0.98984\n    пшеница озимая       0.9898367802108679 267\nStop training because you reached max_epochs = 300 with best_epoch = 98 and best_valid_balanced_accuracy = 0.99941\n    гречиха              0.9994117647058823 98\nStop training because you reached max_epochs = 300 with best_epoch = 192 and best_valid_balanced_accuracy = 0.97596\n    кукуруза             0.9759634035949825 192\nStop training because you reached max_epochs = 300 with best_epoch = 227 and best_valid_balanced_accuracy = 1.0\n    пшеница яровая       1.0        227\nStop training because you reached max_epochs = 300 with best_epoch = 275 and best_valid_balanced_accuracy = 0.9516\n    сахарная свекла      0.9516016933089024 275\n    0.960423081513307\n  Fold: 3\nStop training because you reached max_epochs = 300 with best_epoch = 177 and best_valid_balanced_accuracy = 0.95666\n    подсолнечник         0.9566610830028716 177\nStop training because you reached max_epochs = 300 with best_epoch = 103 and best_valid_balanced_accuracy = 1.0\n    картофель            1.0        103\nStop training because you reached max_epochs = 300 with best_epoch = 209 and best_valid_balanced_accuracy = 0.98613\n    пшеница озимая       0.9861329147043433 209\nStop training because you reached max_epochs = 300 with best_epoch = 177 and best_valid_balanced_accuracy = 1.0\n    гречиха              1.0        177\nStop training because you reached max_epochs = 300 with best_epoch = 297 and best_valid_balanced_accuracy = 0.94799\n    кукуруза             0.9479927007299269 297\nStop training because you reached max_epochs = 300 with best_epoch = 149 and best_valid_balanced_accuracy = 1.0\n    пшеница яровая       1.0        149\nStop training because you reached max_epochs = 300 with best_epoch = 216 and best_valid_balanced_accuracy = 0.97017\n    сахарная свекла      0.9701730988302631 216\n    0.957622649874251\n  Fold: 4\nStop training because you reached max_epochs = 300 with best_epoch = 186 and best_valid_balanced_accuracy = 0.95041\n    подсолнечник         0.9504088858252914 186\nStop training because you reached max_epochs = 300 with best_epoch = 183 and best_valid_balanced_accuracy = 1.0\n    картофель            1.0        183\nStop training because you reached max_epochs = 300 with best_epoch = 254 and best_valid_balanced_accuracy = 0.99015\n    пшеница озимая       0.9901540111868823 254\nStop training because you reached max_epochs = 300 with best_epoch = 202 and best_valid_balanced_accuracy = 1.0\n    гречиха              1.0        202\nStop training because you reached max_epochs = 300 with best_epoch = 176 and best_valid_balanced_accuracy = 0.96564\n    кукуруза             0.9656433748119786 176\nStop training because you reached max_epochs = 300 with best_epoch = 176 and best_valid_balanced_accuracy = 0.99939\n    пшеница яровая       0.9993932038834952 176\nStop training because you reached max_epochs = 300 with best_epoch = 237 and best_valid_balanced_accuracy = 0.96202\n    сахарная свекла      0.9620245003223726 237\n    0.9609303017553111\n  Mean:\n    подсолнечник         0.9521453835731251\n    картофель            0.9998789346246972\n    пшеница озимая       0.9868215186335962\n    гречиха              0.9998823529411766\n    кукуруза             0.9598391911345818\n    пшеница яровая       0.9998786407766991\n    сахарная свекла      0.9603114661799907\n  Report:\n                     precision    recall  f1-score   support\n\n       подсолнечник      0.884     0.934     0.908       726\n          картофель      0.994     0.996     0.995       700\n     пшеница озимая      0.971     0.968     0.970       697\n            гречиха      1.000     0.998     0.999       655\n           кукуруза      0.947     0.919     0.933       718\n     пшеница яровая      1.000     0.988     0.994       668\n    сахарная свекла      0.931     0.917     0.924       666\n\n           accuracy                          0.960      4830\n          macro avg      0.961     0.960     0.961      4830\n       weighted avg      0.960     0.960     0.960      4830\n\nSeed: 5\n",
          "output_type": "stream"
        },
        {
          "output_type": "display_data",
          "data": {
            "text/plain": "  0%|          | 0/5 [00:00<?, ?it/s]",
            "application/vnd.jupyter.widget-view+json": {
              "version_major": 2,
              "version_minor": 0,
              "model_id": "bbee884a3f2d4a7882e0a9793c78c4c0"
            }
          },
          "metadata": {}
        },
        {
          "name": "stdout",
          "text": "  Fold: 0\nStop training because you reached max_epochs = 300 with best_epoch = 158 and best_valid_balanced_accuracy = 0.94668\n    подсолнечник         0.9466833233627758 158\nStop training because you reached max_epochs = 300 with best_epoch = 275 and best_valid_balanced_accuracy = 0.99603\n    картофель            0.996031746031746 275\nStop training because you reached max_epochs = 300 with best_epoch = 180 and best_valid_balanced_accuracy = 0.98807\n    пшеница озимая       0.9880664610597094 180\nStop training because you reached max_epochs = 300 with best_epoch = 131 and best_valid_balanced_accuracy = 1.0\n    гречиха              1.0        131\nStop training because you reached max_epochs = 300 with best_epoch = 258 and best_valid_balanced_accuracy = 0.96369\n    кукуруза             0.963693982854589 258\nStop training because you reached max_epochs = 300 with best_epoch = 153 and best_valid_balanced_accuracy = 0.99941\n    пшеница яровая       0.9994138335287222 153\nStop training because you reached max_epochs = 300 with best_epoch = 273 and best_valid_balanced_accuracy = 0.96906\n    сахарная свекла      0.9690551451489351 273\n    0.956416266882937\n  Fold: 1\nStop training because you reached max_epochs = 300 with best_epoch = 161 and best_valid_balanced_accuracy = 0.96602\n    подсолнечник         0.9660170092133239 161\nStop training because you reached max_epochs = 300 with best_epoch = 141 and best_valid_balanced_accuracy = 0.99938\n    картофель            0.9993819530284301 141\nStop training because you reached max_epochs = 300 with best_epoch = 146 and best_valid_balanced_accuracy = 0.98323\n    пшеница озимая       0.9832324455205811 146\nStop training because you reached max_epochs = 300 with best_epoch = 283 and best_valid_balanced_accuracy = 1.0\n    гречиха              1.0        283\nStop training because you reached max_epochs = 300 with best_epoch = 246 and best_valid_balanced_accuracy = 0.97027\n    кукуруза             0.9702696078431372 246\nStop training because you reached max_epochs = 300 with best_epoch = 197 and best_valid_balanced_accuracy = 1.0\n    пшеница яровая       1.0        197\nStop training because you reached max_epochs = 300 with best_epoch = 217 and best_valid_balanced_accuracy = 0.94368\n    сахарная свекла      0.9436800373134329 217\n    0.9690742267056077\n  Fold: 2\nStop training because you reached max_epochs = 300 with best_epoch = 257 and best_valid_balanced_accuracy = 0.95436\n    подсолнечник         0.9543552582359747 257\nStop training because you reached max_epochs = 300 with best_epoch = 178 and best_valid_balanced_accuracy = 1.0\n    картофель            1.0        178\nStop training because you reached max_epochs = 300 with best_epoch = 281 and best_valid_balanced_accuracy = 0.98851\n    пшеница озимая       0.9885065152021384 281\nStop training because you reached max_epochs = 300 with best_epoch = 139 and best_valid_balanced_accuracy = 1.0\n    гречиха              1.0        139\nStop training because you reached max_epochs = 300 with best_epoch = 152 and best_valid_balanced_accuracy = 0.9659\n    кукуруза             0.9658954226528567 152\nStop training because you reached max_epochs = 300 with best_epoch = 150 and best_valid_balanced_accuracy = 1.0\n    пшеница яровая       1.0        150\nStop training because you reached max_epochs = 300 with best_epoch = 200 and best_valid_balanced_accuracy = 0.96529\n    сахарная свекла      0.9652901872426385 200\n    0.9658429221725929\n  Fold: 3\nStop training because you reached max_epochs = 300 with best_epoch = 286 and best_valid_balanced_accuracy = 0.94505\n    подсолнечник         0.9450483091787439 286\nStop training because you reached max_epochs = 300 with best_epoch = 156 and best_valid_balanced_accuracy = 1.0\n    картофель            1.0        156\nStop training because you reached max_epochs = 300 with best_epoch = 214 and best_valid_balanced_accuracy = 0.98384\n    пшеница озимая       0.9838377723970944 214\nStop training because you reached max_epochs = 300 with best_epoch = 138 and best_valid_balanced_accuracy = 1.0\n    гречиха              1.0        138\nStop training because you reached max_epochs = 300 with best_epoch = 183 and best_valid_balanced_accuracy = 0.95465\n    кукуруза             0.9546517640507537 183\nStop training because you reached max_epochs = 300 with best_epoch = 101 and best_valid_balanced_accuracy = 1.0\n    пшеница яровая       1.0        101\nStop training because you reached max_epochs = 300 with best_epoch = 205 and best_valid_balanced_accuracy = 0.95427\n    сахарная свекла      0.9542731056257175 205\n    0.9537092281387236\n  Fold: 4\nStop training because you reached max_epochs = 300 with best_epoch = 165 and best_valid_balanced_accuracy = 0.96089\n    подсолнечник         0.9608949204272945 165\nStop training because you reached max_epochs = 300 with best_epoch = 219 and best_valid_balanced_accuracy = 0.9954\n    картофель            0.995399127734091 219\nStop training because you reached max_epochs = 300 with best_epoch = 154 and best_valid_balanced_accuracy = 0.98701\n    пшеница озимая       0.9870094352522905 154\nStop training because you reached max_epochs = 300 with best_epoch = 121 and best_valid_balanced_accuracy = 1.0\n    гречиха              1.0        121\nStop training because you reached max_epochs = 300 with best_epoch = 270 and best_valid_balanced_accuracy = 0.95297\n    кукуруза             0.9529716024340771 270\nStop training because you reached max_epochs = 300 with best_epoch = 159 and best_valid_balanced_accuracy = 0.99939\n    пшеница яровая       0.9993917274939172 159\nStop training because you reached max_epochs = 300 with best_epoch = 296 and best_valid_balanced_accuracy = 0.97597\n    сахарная свекла      0.975968439275182 296\n    0.9652385632614562\n  Mean:\n    подсолнечник         0.9545997640836227\n    картофель            0.9981625653588534\n    пшеница озимая       0.9861305258863627\n    гречиха              1.0\n    кукуруза             0.9614964759670827\n    пшеница яровая       0.9997611122045278\n    сахарная свекла      0.9616533829211811\n  Report:\n                     precision    recall  f1-score   support\n\n       подсолнечник      0.890     0.933     0.911       726\n          картофель      0.996     0.997     0.996       700\n     пшеница озимая      0.981     0.964     0.973       697\n            гречиха      1.000     1.000     1.000       655\n           кукуруза      0.936     0.930     0.933       718\n     пшеница яровая      1.000     0.996     0.998       668\n    сахарная свекла      0.938     0.914     0.926       666\n\n           accuracy                          0.961      4830\n          macro avg      0.963     0.962     0.962      4830\n       weighted avg      0.962     0.961     0.962      4830\n\n\n[Summary]\nMean:\n  подсолнечник         0.9532618216514754\n  картофель            0.9989343274406806\n  пшеница озимая       0.9863200136333221\n  гречиха              0.9999283626505702\n  кукуруза             0.9604123684234079\n  пшеница яровая       0.9993167455189941\n  сахарная свекла      0.9581528908499878\nMin:\n  подсолнечник         0.9279536253220464\n  картофель            0.9923664122137404\n  пшеница озимая       0.9730775525472868\n  гречиха              0.9993946731234866\n  кукуруза             0.9392115820687249\n  пшеница яровая       0.9964285714285714\n  сахарная свекла      0.9361063631419471\nMax:\n  подсолнечник         0.968545508001176\n  картофель            1.0\n  пшеница озимая       0.9939378197282804\n  гречиха              1.0\n  кукуруза             0.9796017303102625\n  пшеница яровая       1.0\n  сахарная свекла      0.975968439275182\nReport:\n                   precision    recall  f1-score   support\n\n     подсолнечник      0.893     0.931     0.912      3630\n        картофель      0.996     0.997     0.996      3500\n   пшеница озимая      0.973     0.968     0.971      3485\n          гречиха      1.000     0.998     0.999      3275\n         кукуруза      0.943     0.925     0.934      3590\n   пшеница яровая      0.999     0.993     0.996      3340\n  сахарная свекла      0.933     0.919     0.926      3330\n\n         accuracy                          0.961     24150\n        macro avg      0.962     0.962     0.962     24150\n     weighted avg      0.961     0.961     0.961     24150\n\nMetrics:\n  Accuracy: 0.9609937888198757\n  Recall (macro): 0.9615454162302379\n  Precision (macro): 0.9622071323174781\n  F1 (macro): 0.9617958438586788\n",
          "output_type": "stream"
        }
      ]
    },
    {
      "cell_type": "markdown",
      "source": [
        "### Мульти-классификатор"
      ],
      "metadata": {
        "id": "K1iGfophIcbi"
      }
    },
    {
      "cell_type": "code",
      "source": [
        "results = []\n",
        "models = []\n",
        "best_iterations = []\n",
        "metrics = []\n",
        "\n",
        "for seed in tqdm(range(1, 1 + SEED_COUNT)):\n",
        "    print(f'Seed: {seed}')\n",
        "    k_fold = KFold(FOLD_COUNT, shuffle=True, random_state=seed)\n",
        "\n",
        "    for fold, (train_index, val_index) in tqdm(enumerate(k_fold.split(train_data)), total=k_fold.n_splits):\n",
        "        print(f'  Fold: {fold}')\n",
        "        \n",
        "        train_df = train_data.iloc[train_index].reset_index(drop=True)\n",
        "        val_df = train_data.iloc[val_index].reset_index(drop=True)\n",
        "        \n",
        "        train_id = train_df.id.to_numpy()\n",
        "        val_id = val_df.id.to_numpy()\n",
        "        \n",
        "        train_neighbor = train_id[geo_matrix[train_id][:,train_id].argmin(axis=1)]\n",
        "        val_neighbor = train_id[geo_matrix[val_id][:,train_id].argmin(axis=1)]\n",
        "\n",
        "        train_crop = train_df.set_index('id', drop=False).loc[train_neighbor]['crop'].reset_index(drop=True)\n",
        "        val_crop = train_df.set_index('id', drop=False).loc[val_neighbor]['crop'].reset_index(drop=True)\n",
        "\n",
        "        for target_index in range(TARGET_COUNT):\n",
        "            train_df[f'neighbor.crop{target_index}'] = train_crop == target_index\n",
        "            val_df[f'neighbor.crop{target_index}'] = val_crop == target_index\n",
        "\n",
        "        train_df['neighbor.distance'] = geo_matrix[train_id][:,train_id].min(axis=1)\n",
        "        val_df['neighbor.distance'] = geo_matrix[val_id][:,train_id].min(axis=1)\n",
        "        \n",
        "        feature_names = DEFAULT_FEATURES.copy()\n",
        "        for target_index in range(TARGET_COUNT):\n",
        "            feature_names.append(f'neighbor.crop{target_index}')\n",
        "        feature_names.append('neighbor.distance')\n",
        "            \n",
        "        train_X = train_df[feature_names].to_numpy(dtype='float32')\n",
        "        train_y = train_df[TARGET_COLUMN].to_numpy()\n",
        "        val_X = val_df[feature_names].to_numpy(dtype='float32')\n",
        "        val_y = val_df[TARGET_COLUMN].to_numpy()\n",
        "\n",
        "        model = TabNetClassifier(seed=1, verbose=0, n_d=8, n_a=8, device_name='cuda')\n",
        "        model.fit(\n",
        "            train_X, train_y,\n",
        "            max_epochs=500,\n",
        "            batch_size=1024,\n",
        "            patience=500,\n",
        "            eval_set=[(val_X, val_y)],\n",
        "            eval_name=['valid'],\n",
        "            eval_metric=['balanced_accuracy'],\n",
        "            drop_last=False,\n",
        "        )\n",
        "\n",
        "        print(f'    {model.best_cost:<10} {model.best_epoch}')\n",
        "\n",
        "        results.append(model.history)\n",
        "        models.append(model)\n",
        "        best_iterations.append(model.best_epoch)\n",
        "        metrics.append(model.best_cost)\n",
        "\n",
        "print('\\n[Summary]')\n",
        "print('Recall (macro):', np.mean(metrics))"
      ],
      "metadata": {
        "execution": {
          "iopub.status.busy": "2022-11-20T11:01:13.401000Z",
          "iopub.execute_input": "2022-11-20T11:01:13.401341Z",
          "iopub.status.idle": "2022-11-20T11:34:41.067650Z",
          "shell.execute_reply.started": "2022-11-20T11:01:13.401313Z",
          "shell.execute_reply": "2022-11-20T11:34:41.066645Z"
        },
        "trusted": true,
        "colab": {
          "referenced_widgets": [
            "086b6a052c6d49898c39266ed2ae0248",
            "c1e1df9ff37643eeb82148c210c5c243",
            "72f98aa78d7f407f900576d38f697de6",
            "76010bcb6f8243e38b87ffece469d68c",
            "6fdf50822b2e49fe8abcbf1294fc7105",
            "1c51179b22d14f258b970a84f6c62788"
          ]
        },
        "id": "F3hgxB6_Icbj",
        "outputId": "c49e5d73-56b1-4782-8201-4f914ef7a9d0"
      },
      "execution_count": null,
      "outputs": [
        {
          "output_type": "display_data",
          "data": {
            "text/plain": "  0%|          | 0/5 [00:00<?, ?it/s]",
            "application/vnd.jupyter.widget-view+json": {
              "version_major": 2,
              "version_minor": 0,
              "model_id": "086b6a052c6d49898c39266ed2ae0248"
            }
          },
          "metadata": {}
        },
        {
          "name": "stdout",
          "text": "Seed: 1\n",
          "output_type": "stream"
        },
        {
          "output_type": "display_data",
          "data": {
            "text/plain": "  0%|          | 0/5 [00:00<?, ?it/s]",
            "application/vnd.jupyter.widget-view+json": {
              "version_major": 2,
              "version_minor": 0,
              "model_id": "c1e1df9ff37643eeb82148c210c5c243"
            }
          },
          "metadata": {}
        },
        {
          "name": "stdout",
          "text": "  Fold: 0\nStop training because you reached max_epochs = 500 with best_epoch = 490 and best_valid_balanced_accuracy = 0.96141\n    0.961413621393821 490\n  Fold: 1\nStop training because you reached max_epochs = 500 with best_epoch = 456 and best_valid_balanced_accuracy = 0.96453\n    0.9645279912385598 456\n  Fold: 2\nStop training because you reached max_epochs = 500 with best_epoch = 485 and best_valid_balanced_accuracy = 0.96041\n    0.960411230965114 485\n  Fold: 3\nStop training because you reached max_epochs = 500 with best_epoch = 228 and best_valid_balanced_accuracy = 0.96708\n    0.9670808729367586 228\n  Fold: 4\nStop training because you reached max_epochs = 500 with best_epoch = 271 and best_valid_balanced_accuracy = 0.9668\n    0.9667970865661959 271\nSeed: 2\n",
          "output_type": "stream"
        },
        {
          "output_type": "display_data",
          "data": {
            "text/plain": "  0%|          | 0/5 [00:00<?, ?it/s]",
            "application/vnd.jupyter.widget-view+json": {
              "version_major": 2,
              "version_minor": 0,
              "model_id": "72f98aa78d7f407f900576d38f697de6"
            }
          },
          "metadata": {}
        },
        {
          "name": "stdout",
          "text": "  Fold: 0\nStop training because you reached max_epochs = 500 with best_epoch = 448 and best_valid_balanced_accuracy = 0.96174\n    0.9617410731482471 448\n  Fold: 1\nStop training because you reached max_epochs = 500 with best_epoch = 383 and best_valid_balanced_accuracy = 0.94956\n    0.9495623669610035 383\n  Fold: 2\nStop training because you reached max_epochs = 500 with best_epoch = 463 and best_valid_balanced_accuracy = 0.9646\n    0.964600548746981 463\n  Fold: 3\nStop training because you reached max_epochs = 500 with best_epoch = 302 and best_valid_balanced_accuracy = 0.96618\n    0.9661757409805679 302\n  Fold: 4\nStop training because you reached max_epochs = 500 with best_epoch = 192 and best_valid_balanced_accuracy = 0.95491\n    0.9549105217044784 192\nSeed: 3\n",
          "output_type": "stream"
        },
        {
          "output_type": "display_data",
          "data": {
            "text/plain": "  0%|          | 0/5 [00:00<?, ?it/s]",
            "application/vnd.jupyter.widget-view+json": {
              "version_major": 2,
              "version_minor": 0,
              "model_id": "76010bcb6f8243e38b87ffece469d68c"
            }
          },
          "metadata": {}
        },
        {
          "name": "stdout",
          "text": "  Fold: 0\nStop training because you reached max_epochs = 500 with best_epoch = 350 and best_valid_balanced_accuracy = 0.95825\n    0.9582469665013741 350\n  Fold: 1\nStop training because you reached max_epochs = 500 with best_epoch = 458 and best_valid_balanced_accuracy = 0.95996\n    0.9599554599886203 458\n  Fold: 2\nStop training because you reached max_epochs = 500 with best_epoch = 297 and best_valid_balanced_accuracy = 0.96101\n    0.9610071385313566 297\n  Fold: 3\nStop training because you reached max_epochs = 500 with best_epoch = 313 and best_valid_balanced_accuracy = 0.9652\n    0.9652018943029491 313\n  Fold: 4\nStop training because you reached max_epochs = 500 with best_epoch = 364 and best_valid_balanced_accuracy = 0.96296\n    0.9629601868190308 364\nSeed: 4\n",
          "output_type": "stream"
        },
        {
          "output_type": "display_data",
          "data": {
            "text/plain": "  0%|          | 0/5 [00:00<?, ?it/s]",
            "application/vnd.jupyter.widget-view+json": {
              "version_major": 2,
              "version_minor": 0,
              "model_id": "6fdf50822b2e49fe8abcbf1294fc7105"
            }
          },
          "metadata": {}
        },
        {
          "name": "stdout",
          "text": "  Fold: 0\nStop training because you reached max_epochs = 500 with best_epoch = 449 and best_valid_balanced_accuracy = 0.96705\n    0.9670511653738864 449\n  Fold: 1\nStop training because you reached max_epochs = 500 with best_epoch = 488 and best_valid_balanced_accuracy = 0.95944\n    0.9594393583551747 488\n  Fold: 2\nStop training because you reached max_epochs = 500 with best_epoch = 392 and best_valid_balanced_accuracy = 0.96131\n    0.9613107172693639 392\n  Fold: 3\nStop training because you reached max_epochs = 500 with best_epoch = 481 and best_valid_balanced_accuracy = 0.96098\n    0.9609802046161936 481\n  Fold: 4\nStop training because you reached max_epochs = 500 with best_epoch = 402 and best_valid_balanced_accuracy = 0.96472\n    0.9647163391521251 402\nSeed: 5\n",
          "output_type": "stream"
        },
        {
          "output_type": "display_data",
          "data": {
            "text/plain": "  0%|          | 0/5 [00:00<?, ?it/s]",
            "application/vnd.jupyter.widget-view+json": {
              "version_major": 2,
              "version_minor": 0,
              "model_id": "1c51179b22d14f258b970a84f6c62788"
            }
          },
          "metadata": {}
        },
        {
          "name": "stdout",
          "text": "  Fold: 0\nStop training because you reached max_epochs = 500 with best_epoch = 272 and best_valid_balanced_accuracy = 0.95791\n    0.9579143762745498 272\n  Fold: 1\nStop training because you reached max_epochs = 500 with best_epoch = 352 and best_valid_balanced_accuracy = 0.96069\n    0.9606871596103647 352\n  Fold: 2\nStop training because you reached max_epochs = 500 with best_epoch = 170 and best_valid_balanced_accuracy = 0.95818\n    0.9581827838440505 170\n  Fold: 3\nStop training because you reached max_epochs = 500 with best_epoch = 350 and best_valid_balanced_accuracy = 0.95372\n    0.9537234943233577 350\n  Fold: 4\nStop training because you reached max_epochs = 500 with best_epoch = 335 and best_valid_balanced_accuracy = 0.96406\n    0.964055763194131 335\n\n[Summary]\nRecall (macro): 0.9613061625119301\n",
          "output_type": "stream"
        }
      ]
    },
    {
      "cell_type": "markdown",
      "source": [
        "## Подготовка submission"
      ],
      "metadata": {
        "id": "-q6pH8ZgIcbm"
      }
    },
    {
      "cell_type": "code",
      "source": [
        "def predict_proba(data, models, selection: Optional[List[int]] = None):\n",
        "    result = None\n",
        "    count = 0\n",
        "    for i, model in enumerate(models):\n",
        "        if selection and i not in selection:\n",
        "            continue\n",
        "        proba = model.predict_proba(data)[:,1]\n",
        "        if result is None:\n",
        "            result = proba\n",
        "        else:\n",
        "            result += proba\n",
        "        count += 1\n",
        "    return result / count"
      ],
      "metadata": {
        "execution": {
          "iopub.status.busy": "2022-11-19T19:34:20.858569Z",
          "iopub.execute_input": "2022-11-19T19:34:20.858936Z",
          "iopub.status.idle": "2022-11-19T19:34:20.867928Z",
          "shell.execute_reply.started": "2022-11-19T19:34:20.858906Z",
          "shell.execute_reply": "2022-11-19T19:34:20.866888Z"
        },
        "trusted": true,
        "id": "xRTI7fCbIcbm"
      },
      "execution_count": null,
      "outputs": []
    },
    {
      "cell_type": "code",
      "source": [
        "predicts = np.array([predict_proba(test_data[FEATURES[target_index]].to_numpy(dtype='float32'),\n",
        "                                   models[target_index],\n",
        "                                   selection=None)\n",
        "                     for target_index in range(TARGET_COUNT)])\n",
        "\n",
        "submission = test_data[['id']].copy()\n",
        "submission['crop'] = predicts.argmax(axis=0)\n",
        "\n",
        "submission.to_csv('/kaggle/working/submission.csv', index=False, encoding='utf-8')"
      ],
      "metadata": {
        "execution": {
          "iopub.status.busy": "2022-11-19T19:34:22.776040Z",
          "iopub.execute_input": "2022-11-19T19:34:22.776771Z",
          "iopub.status.idle": "2022-11-19T19:34:29.678633Z",
          "shell.execute_reply.started": "2022-11-19T19:34:22.776728Z",
          "shell.execute_reply": "2022-11-19T19:34:29.677697Z"
        },
        "trusted": true,
        "id": "UVIKcOMKIcbm"
      },
      "execution_count": null,
      "outputs": []
    },
    {
      "cell_type": "code",
      "source": [
        "def predict_proba_multi(data, models, selection: Optional[List[int]] = None):\n",
        "    result = None\n",
        "    count = 0\n",
        "    for i, model in enumerate(models):\n",
        "        if selection and i not in selection:\n",
        "            continue\n",
        "        proba = model.predict_proba(data)\n",
        "        if result is None:\n",
        "            result = proba\n",
        "        else:\n",
        "            result += proba\n",
        "        count += 1\n",
        "    return result / count"
      ],
      "metadata": {
        "execution": {
          "iopub.status.busy": "2022-11-20T10:58:36.619820Z",
          "iopub.execute_input": "2022-11-20T10:58:36.620330Z",
          "iopub.status.idle": "2022-11-20T10:58:36.633377Z",
          "shell.execute_reply.started": "2022-11-20T10:58:36.620285Z",
          "shell.execute_reply": "2022-11-20T10:58:36.632082Z"
        },
        "trusted": true,
        "id": "o3AKd76OIcbn"
      },
      "execution_count": null,
      "outputs": []
    },
    {
      "cell_type": "code",
      "source": [
        "train_id = train_data.id.to_numpy()\n",
        "test_id = test_data.id.to_numpy()\n",
        "\n",
        "test_neighbor = train_id[geo_matrix[test_id][:,train_id].argmin(axis=1)]\n",
        "\n",
        "test_crop = train_data.set_index('id', drop=False).loc[test_neighbor]['crop'].reset_index(drop=True)\n",
        "        \n",
        "for target_index in range(TARGET_COUNT):\n",
        "    test_data[f'neighbor.crop{target_index}'] = test_crop == target_index\n",
        "\n",
        "test_data['neighbor.distance'] = geo_matrix[test_id][:,train_id].min(axis=1)\n",
        "\n",
        "predicts = predict_proba_multi(test_data[DEFAULT_FEATURES + ['neighbor.crop0', 'neighbor.crop1', 'neighbor.crop2', 'neighbor.crop3', 'neighbor.crop4', 'neighbor.crop5', 'neighbor.crop6', 'neighbor.distance']].to_numpy(dtype='float32'), models,\n",
        "                               selection=None)\n",
        "\n",
        "submission = test_data[['id']].copy()\n",
        "submission['crop'] = predicts.argmax(axis=1)\n",
        "\n",
        "submission.to_csv('/kaggle/working/submission.csv', index=False, encoding='utf-8')"
      ],
      "metadata": {
        "execution": {
          "iopub.status.busy": "2022-11-20T11:38:30.700717Z",
          "iopub.execute_input": "2022-11-20T11:38:30.701106Z",
          "iopub.status.idle": "2022-11-20T11:38:32.003334Z",
          "shell.execute_reply.started": "2022-11-20T11:38:30.701073Z",
          "shell.execute_reply": "2022-11-20T11:38:32.002320Z"
        },
        "trusted": true,
        "id": "wRtVcVw_Icbn"
      },
      "execution_count": null,
      "outputs": []
    },
    {
      "cell_type": "markdown",
      "source": [
        "### Сохранение предиктов"
      ],
      "metadata": {
        "id": "ZF593jHRIcbo"
      }
    },
    {
      "cell_type": "code",
      "source": [
        "predicts = predict_proba_multi(test_data[DEFAULT_FEATURES + ['neighbor.crop0', 'neighbor.crop1', 'neighbor.crop2', 'neighbor.crop3', 'neighbor.crop4', 'neighbor.crop5', 'neighbor.crop6', 'neighbor.distance']].to_numpy(dtype='float32'), models)\n",
        "\n",
        "submission = test_data[['id']].copy()\n",
        "\n",
        "for i in range(TARGET_COUNT):\n",
        "    submission[f'p{i}'] = predicts.T[i]\n",
        "\n",
        "submission.to_csv('/kaggle/working/tabnet.csv', index=False, encoding='utf-8')"
      ],
      "metadata": {
        "execution": {
          "iopub.status.busy": "2022-11-20T11:38:33.457220Z",
          "iopub.execute_input": "2022-11-20T11:38:33.457591Z",
          "iopub.status.idle": "2022-11-20T11:38:35.128011Z",
          "shell.execute_reply.started": "2022-11-20T11:38:33.457560Z",
          "shell.execute_reply": "2022-11-20T11:38:35.126858Z"
        },
        "trusted": true,
        "id": "M3iyN_C3Icbo"
      },
      "execution_count": null,
      "outputs": []
    }
  ]
}